{
  "nbformat": 4,
  "nbformat_minor": 0,
  "metadata": {
    "kernelspec": {
      "display_name": "Python 3",
      "language": "python",
      "name": "python3"
    },
    "language_info": {
      "codemirror_mode": {
        "name": "ipython",
        "version": 3
      },
      "file_extension": ".py",
      "mimetype": "text/x-python",
      "name": "python",
      "nbconvert_exporter": "python",
      "pygments_lexer": "ipython3",
      "version": "3.6.9"
    },
    "colab": {
      "name": "HW_GPT2.ipynb",
      "provenance": []
    },
    "accelerator": "GPU",
    "widgets": {
      "application/vnd.jupyter.widget-state+json": {
        "14ec4e6231d941d783adbc0a86c7c52c": {
          "model_module": "@jupyter-widgets/controls",
          "model_name": "HBoxModel",
          "state": {
            "_view_name": "HBoxView",
            "_dom_classes": [],
            "_model_name": "HBoxModel",
            "_view_module": "@jupyter-widgets/controls",
            "_model_module_version": "1.5.0",
            "_view_count": null,
            "_view_module_version": "1.5.0",
            "box_style": "",
            "layout": "IPY_MODEL_7aba1f7affac48e1a6770401a3bbc6ae",
            "_model_module": "@jupyter-widgets/controls",
            "children": [
              "IPY_MODEL_ff68ff42d1c3484f9ddc2bb7432af406",
              "IPY_MODEL_0d59d252bfd3466f96c8813063d288e5"
            ]
          },
          "model_module_version": "1.5.0"
        },
        "7aba1f7affac48e1a6770401a3bbc6ae": {
          "model_module": "@jupyter-widgets/base",
          "model_name": "LayoutModel",
          "state": {
            "_view_name": "LayoutView",
            "grid_template_rows": null,
            "right": null,
            "justify_content": null,
            "_view_module": "@jupyter-widgets/base",
            "overflow": null,
            "_model_module_version": "1.2.0",
            "_view_count": null,
            "flex_flow": null,
            "width": null,
            "min_width": null,
            "border": null,
            "align_items": null,
            "bottom": null,
            "_model_module": "@jupyter-widgets/base",
            "top": null,
            "grid_column": null,
            "overflow_y": null,
            "overflow_x": null,
            "grid_auto_flow": null,
            "grid_area": null,
            "grid_template_columns": null,
            "flex": null,
            "_model_name": "LayoutModel",
            "justify_items": null,
            "grid_row": null,
            "max_height": null,
            "align_content": null,
            "visibility": null,
            "align_self": null,
            "height": null,
            "min_height": null,
            "padding": null,
            "grid_auto_rows": null,
            "grid_gap": null,
            "max_width": null,
            "order": null,
            "_view_module_version": "1.2.0",
            "grid_template_areas": null,
            "object_position": null,
            "object_fit": null,
            "grid_auto_columns": null,
            "margin": null,
            "display": null,
            "left": null
          },
          "model_module_version": "1.2.0"
        },
        "ff68ff42d1c3484f9ddc2bb7432af406": {
          "model_module": "@jupyter-widgets/controls",
          "model_name": "FloatProgressModel",
          "state": {
            "_view_name": "ProgressView",
            "style": "IPY_MODEL_d36b13b1c2794641a243661bf84b89cf",
            "_dom_classes": [],
            "description": "Downloading: 100%",
            "_model_name": "FloatProgressModel",
            "bar_style": "success",
            "max": 352833716,
            "_view_module": "@jupyter-widgets/controls",
            "_model_module_version": "1.5.0",
            "value": 352833716,
            "_view_count": null,
            "_view_module_version": "1.5.0",
            "orientation": "horizontal",
            "min": 0,
            "description_tooltip": null,
            "_model_module": "@jupyter-widgets/controls",
            "layout": "IPY_MODEL_00cccad976dc420e880c29cba3b2a4f7"
          },
          "model_module_version": "1.5.0"
        },
        "0d59d252bfd3466f96c8813063d288e5": {
          "model_module": "@jupyter-widgets/controls",
          "model_name": "HTMLModel",
          "state": {
            "_view_name": "HTMLView",
            "style": "IPY_MODEL_7279611312f44bcba010a77834af9c3d",
            "_dom_classes": [],
            "description": "",
            "_model_name": "HTMLModel",
            "placeholder": "​",
            "_view_module": "@jupyter-widgets/controls",
            "_model_module_version": "1.5.0",
            "value": " 353M/353M [00:06&lt;00:00, 53.7MB/s]",
            "_view_count": null,
            "_view_module_version": "1.5.0",
            "description_tooltip": null,
            "_model_module": "@jupyter-widgets/controls",
            "layout": "IPY_MODEL_b5a84be275354f7aa128715a397851b6"
          },
          "model_module_version": "1.5.0"
        },
        "d36b13b1c2794641a243661bf84b89cf": {
          "model_module": "@jupyter-widgets/controls",
          "model_name": "ProgressStyleModel",
          "state": {
            "_view_name": "StyleView",
            "_model_name": "ProgressStyleModel",
            "description_width": "initial",
            "_view_module": "@jupyter-widgets/base",
            "_model_module_version": "1.5.0",
            "_view_count": null,
            "_view_module_version": "1.2.0",
            "bar_color": null,
            "_model_module": "@jupyter-widgets/controls"
          },
          "model_module_version": "1.5.0"
        },
        "00cccad976dc420e880c29cba3b2a4f7": {
          "model_module": "@jupyter-widgets/base",
          "model_name": "LayoutModel",
          "state": {
            "_view_name": "LayoutView",
            "grid_template_rows": null,
            "right": null,
            "justify_content": null,
            "_view_module": "@jupyter-widgets/base",
            "overflow": null,
            "_model_module_version": "1.2.0",
            "_view_count": null,
            "flex_flow": null,
            "width": null,
            "min_width": null,
            "border": null,
            "align_items": null,
            "bottom": null,
            "_model_module": "@jupyter-widgets/base",
            "top": null,
            "grid_column": null,
            "overflow_y": null,
            "overflow_x": null,
            "grid_auto_flow": null,
            "grid_area": null,
            "grid_template_columns": null,
            "flex": null,
            "_model_name": "LayoutModel",
            "justify_items": null,
            "grid_row": null,
            "max_height": null,
            "align_content": null,
            "visibility": null,
            "align_self": null,
            "height": null,
            "min_height": null,
            "padding": null,
            "grid_auto_rows": null,
            "grid_gap": null,
            "max_width": null,
            "order": null,
            "_view_module_version": "1.2.0",
            "grid_template_areas": null,
            "object_position": null,
            "object_fit": null,
            "grid_auto_columns": null,
            "margin": null,
            "display": null,
            "left": null
          },
          "model_module_version": "1.2.0"
        },
        "7279611312f44bcba010a77834af9c3d": {
          "model_module": "@jupyter-widgets/controls",
          "model_name": "DescriptionStyleModel",
          "state": {
            "_view_name": "StyleView",
            "_model_name": "DescriptionStyleModel",
            "description_width": "",
            "_view_module": "@jupyter-widgets/base",
            "_model_module_version": "1.5.0",
            "_view_count": null,
            "_view_module_version": "1.2.0",
            "_model_module": "@jupyter-widgets/controls"
          },
          "model_module_version": "1.5.0"
        },
        "b5a84be275354f7aa128715a397851b6": {
          "model_module": "@jupyter-widgets/base",
          "model_name": "LayoutModel",
          "state": {
            "_view_name": "LayoutView",
            "grid_template_rows": null,
            "right": null,
            "justify_content": null,
            "_view_module": "@jupyter-widgets/base",
            "overflow": null,
            "_model_module_version": "1.2.0",
            "_view_count": null,
            "flex_flow": null,
            "width": null,
            "min_width": null,
            "border": null,
            "align_items": null,
            "bottom": null,
            "_model_module": "@jupyter-widgets/base",
            "top": null,
            "grid_column": null,
            "overflow_y": null,
            "overflow_x": null,
            "grid_auto_flow": null,
            "grid_area": null,
            "grid_template_columns": null,
            "flex": null,
            "_model_name": "LayoutModel",
            "justify_items": null,
            "grid_row": null,
            "max_height": null,
            "align_content": null,
            "visibility": null,
            "align_self": null,
            "height": null,
            "min_height": null,
            "padding": null,
            "grid_auto_rows": null,
            "grid_gap": null,
            "max_width": null,
            "order": null,
            "_view_module_version": "1.2.0",
            "grid_template_areas": null,
            "object_position": null,
            "object_fit": null,
            "grid_auto_columns": null,
            "margin": null,
            "display": null,
            "left": null
          },
          "model_module_version": "1.2.0"
        }
      }
    }
  },
  "cells": [
    {
      "cell_type": "markdown",
      "metadata": {
        "id": "iMdFrj0bzAEv"
      },
      "source": [
        "# Классификация твитов с использованием GPT"
      ]
    },
    {
      "cell_type": "code",
      "metadata": {
        "id": "KU2ole4HzAEi"
      },
      "source": [
        "!pip install -q transformers datasets tokenizers"
      ],
      "execution_count": null,
      "outputs": []
    },
    {
      "cell_type": "code",
      "metadata": {
        "id": "YYdc4jwJzAEw"
      },
      "source": [
        "import numpy as np\n",
        "import matplotlib.pyplot as plt\n",
        "from matplotlib import ticker\n",
        "import random\n",
        "import torch\n",
        "import torch.nn as nn\n",
        "import torch.optim as optim\n",
        "from sklearn.metrics import accuracy_score\n",
        "from transformers import GPT2ForSequenceClassification, GPT2TokenizerFast, GPT2Config\n",
        "from datasets import load_dataset"
      ],
      "execution_count": null,
      "outputs": []
    },
    {
      "cell_type": "code",
      "metadata": {
        "id": "ZFOS3i8qoJcr"
      },
      "source": [
        "SEED = 1234\n",
        "\n",
        "random.seed(SEED)\n",
        "np.random.seed(SEED)\n",
        "torch.manual_seed(SEED)\n",
        "torch.cuda.manual_seed(SEED)\n",
        "torch.backends.cudnn.deterministic = True"
      ],
      "execution_count": null,
      "outputs": []
    },
    {
      "cell_type": "code",
      "metadata": {
        "id": "NSu6f12NzAEx"
      },
      "source": [
        "device = \"cuda\" if torch.cuda.is_available else \"cpu\""
      ],
      "execution_count": null,
      "outputs": []
    },
    {
      "cell_type": "markdown",
      "metadata": {
        "id": "M0JpfxGjzAEx"
      },
      "source": [
        "Датасет – тексты из английского твиттера. Они уже почищенны от никнеймов, знаков препинания и прочего."
      ]
    },
    {
      "cell_type": "code",
      "metadata": {
        "id": "sO-mK2RCzAEx",
        "colab": {
          "base_uri": "https://localhost:8080/"
        },
        "outputId": "0ced06a4-825b-4d22-d861-36049eba6a7c"
      },
      "source": [
        "emotion_dataset = load_dataset(\"emotion\")"
      ],
      "execution_count": null,
      "outputs": [
        {
          "output_type": "stream",
          "text": [
            "Using custom data configuration default\n",
            "Reusing dataset emotion (/root/.cache/huggingface/datasets/emotion/default/0.0.0/6e4212efe64fd33728549b8f0435c73081391d543b596a05936857df98acb681)\n"
          ],
          "name": "stderr"
        }
      ]
    },
    {
      "cell_type": "code",
      "metadata": {
        "id": "aO4NvCL5zAEy",
        "colab": {
          "base_uri": "https://localhost:8080/"
        },
        "outputId": "2f03d3b8-39da-4cee-d261-bb89834977de"
      },
      "source": [
        "emotion_dataset"
      ],
      "execution_count": null,
      "outputs": [
        {
          "output_type": "execute_result",
          "data": {
            "text/plain": [
              "DatasetDict({\n",
              "    train: Dataset({\n",
              "        features: ['text', 'label'],\n",
              "        num_rows: 16000\n",
              "    })\n",
              "    validation: Dataset({\n",
              "        features: ['text', 'label'],\n",
              "        num_rows: 2000\n",
              "    })\n",
              "    test: Dataset({\n",
              "        features: ['text', 'label'],\n",
              "        num_rows: 2000\n",
              "    })\n",
              "})"
            ]
          },
          "metadata": {
            "tags": []
          },
          "execution_count": 28
        }
      ]
    },
    {
      "cell_type": "code",
      "metadata": {
        "id": "gRDiDThUzAE0"
      },
      "source": [
        "# Для перевода текста использован предобученный BPE-токенайзер.\n",
        "\n",
        "tokenizer = GPT2TokenizerFast.from_pretrained(\"distilgpt2\")\n",
        "tokenizer.pad_token = tokenizer.eos_token # У gpt2 нет pad токенов. Вместо них воспользуемся токенами конца текста."
      ],
      "execution_count": null,
      "outputs": []
    },
    {
      "cell_type": "code",
      "metadata": {
        "id": "I_M5OwGgzAE1",
        "colab": {
          "base_uri": "https://localhost:8080/"
        },
        "outputId": "93f07d11-f201-4677-b4e7-e226fc9d4472"
      },
      "source": [
        "tokenizer.encode_plus(\n",
        "    emotion_dataset[\"train\"][\"text\"][0],\n",
        "    max_length=128, # максимальная длина текста\n",
        "    padding=\"max_length\", # надо ли добавлять паддинг в конце?\n",
        "    return_tensors=\"pt\", # возвращает pytorch тензоры\n",
        ")"
      ],
      "execution_count": null,
      "outputs": [
        {
          "output_type": "execute_result",
          "data": {
            "text/plain": [
              "{'input_ids': tensor([[   72, 42547,  1254, 42659, 50256, 50256, 50256, 50256, 50256, 50256,\n",
              "         50256, 50256, 50256, 50256, 50256, 50256, 50256, 50256, 50256, 50256,\n",
              "         50256, 50256, 50256, 50256, 50256, 50256, 50256, 50256, 50256, 50256,\n",
              "         50256, 50256, 50256, 50256, 50256, 50256, 50256, 50256, 50256, 50256,\n",
              "         50256, 50256, 50256, 50256, 50256, 50256, 50256, 50256, 50256, 50256,\n",
              "         50256, 50256, 50256, 50256, 50256, 50256, 50256, 50256, 50256, 50256,\n",
              "         50256, 50256, 50256, 50256, 50256, 50256, 50256, 50256, 50256, 50256,\n",
              "         50256, 50256, 50256, 50256, 50256, 50256, 50256, 50256, 50256, 50256,\n",
              "         50256, 50256, 50256, 50256, 50256, 50256, 50256, 50256, 50256, 50256,\n",
              "         50256, 50256, 50256, 50256, 50256, 50256, 50256, 50256, 50256, 50256,\n",
              "         50256, 50256, 50256, 50256, 50256, 50256, 50256, 50256, 50256, 50256,\n",
              "         50256, 50256, 50256, 50256, 50256, 50256, 50256, 50256, 50256, 50256,\n",
              "         50256, 50256, 50256, 50256, 50256, 50256, 50256, 50256]]), 'attention_mask': tensor([[1, 1, 1, 1, 0, 0, 0, 0, 0, 0, 0, 0, 0, 0, 0, 0, 0, 0, 0, 0, 0, 0, 0, 0,\n",
              "         0, 0, 0, 0, 0, 0, 0, 0, 0, 0, 0, 0, 0, 0, 0, 0, 0, 0, 0, 0, 0, 0, 0, 0,\n",
              "         0, 0, 0, 0, 0, 0, 0, 0, 0, 0, 0, 0, 0, 0, 0, 0, 0, 0, 0, 0, 0, 0, 0, 0,\n",
              "         0, 0, 0, 0, 0, 0, 0, 0, 0, 0, 0, 0, 0, 0, 0, 0, 0, 0, 0, 0, 0, 0, 0, 0,\n",
              "         0, 0, 0, 0, 0, 0, 0, 0, 0, 0, 0, 0, 0, 0, 0, 0, 0, 0, 0, 0, 0, 0, 0, 0,\n",
              "         0, 0, 0, 0, 0, 0, 0, 0]])}"
            ]
          },
          "metadata": {
            "tags": []
          },
          "execution_count": 38
        }
      ]
    },
    {
      "cell_type": "code",
      "metadata": {
        "id": "X1-wo9nhzAE2"
      },
      "source": [
        "class TweetDataset(torch.utils.data.Dataset):\n",
        "    def __init__(self, part, dataset=emotion_dataset, tokenizer=tokenizer, max_length=128):\n",
        "        self.part = part\n",
        "        self.dataset = dataset\n",
        "        self.tokenizer = tokenizer\n",
        "        self.max_length = max_length\n",
        "\n",
        "        self.labels = np.unique(dataset[part][\"label\"])\n",
        "        self.label2num = {l: num for num, l in enumerate(self.labels)}\n",
        "\n",
        "    def __getitem__(self, idx):\n",
        "        \"\"\"\n",
        "        Return dict with tokens, attention_mask and label\n",
        "        \"\"\"\n",
        "        text = self.dataset[self.part][\"text\"][idx]\n",
        "        label = self.dataset[self.part][\"label\"][idx]\n",
        "\n",
        "        tokenizer_output = tokenizer.encode_plus(\n",
        "                    text,\n",
        "                    max_length=128, # максимальная длина текста\n",
        "                    padding=\"max_length\", # надо ли добавлять паддинг в конце?\n",
        "                    return_tensors=\"pt\", # возвращает pytorch тензоры\n",
        "                                                )\n",
        "        target = self.label2num[label]\n",
        "        return {\n",
        "            \"input_ids\": tokenizer_output['input_ids'],\n",
        "            \"mask\": tokenizer_output['attention_mask'],\n",
        "            \"target\": target\n",
        "        }\n",
        "\n",
        "    def __len__(self):\n",
        "        \"\"\"\n",
        "        Return length of dataset\n",
        "        \"\"\"\n",
        "        return len(self.dataset[self.part])"
      ],
      "execution_count": null,
      "outputs": []
    },
    {
      "cell_type": "code",
      "metadata": {
        "id": "AKSNXT4wzAE2"
      },
      "source": [
        "train_dataset = TweetDataset('train', emotion_dataset, tokenizer, 128)\n",
        "valid_dataset = TweetDataset('validation', emotion_dataset, tokenizer, 128) # validation\n",
        "test_dataset = TweetDataset('test', emotion_dataset, tokenizer, 128)"
      ],
      "execution_count": null,
      "outputs": []
    },
    {
      "cell_type": "code",
      "metadata": {
        "id": "Ba103dYczAE3"
      },
      "source": [
        "batch_size = 64 # Задай batch_size\n",
        "\n",
        "train_loader = torch.utils.data.DataLoader(\n",
        "    train_dataset,\n",
        "    batch_size\n",
        ")\n",
        "valid_loader = torch.utils.data.DataLoader(\n",
        "    valid_dataset,\n",
        "    batch_size\n",
        ")\n",
        "test_loader = torch.utils.data.DataLoader(\n",
        "    test_dataset,\n",
        "    batch_size\n",
        ")"
      ],
      "execution_count": null,
      "outputs": []
    },
    {
      "cell_type": "markdown",
      "metadata": {
        "id": "HYRAC8ljzAE3"
      },
      "source": [
        "## Начнем с нуля.\n",
        "\n",
        "Попробуем обучить модель трансформер с нуля решать данную задачу."
      ]
    },
    {
      "cell_type": "code",
      "metadata": {
        "id": "YHnyGKyuzAE3"
      },
      "source": [
        "config = GPT2Config.from_pretrained(\n",
        "    \"distilgpt2\", # distilgpt2 – уменьшенная версия модели gpt2\n",
        "    output_attentions=True,\n",
        "    pad_token_id=tokenizer.eos_token_id,\n",
        "    num_labels=len(train_dataset.labels)\n",
        ")\n",
        "model_0 = GPT2ForSequenceClassification(config=config).to(device) # GPT2 для классификации текста"
      ],
      "execution_count": null,
      "outputs": []
    },
    {
      "cell_type": "markdown",
      "metadata": {
        "id": "HEFpZiUlzAE3"
      },
      "source": [
        "Инициализация оптимизатора и функции потерь:"
      ]
    },
    {
      "cell_type": "code",
      "metadata": {
        "id": "dxKwoqlpzAE4"
      },
      "source": [
        "lr = 1e-4\n",
        "\n",
        "optimizer = torch.optim.Adam(model_0.parameters(), lr = lr)\n",
        "criterion = nn.CrossEntropyLoss()"
      ],
      "execution_count": null,
      "outputs": []
    },
    {
      "cell_type": "code",
      "metadata": {
        "id": "aux-2_pLzAE5"
      },
      "source": [
        "from tqdm.notebook import tqdm\n",
        "\n",
        "\n",
        "num_epochs = 10\n",
        "\n",
        "# Train loop\n",
        "for e in range(num_epochs):\n",
        "    model_0.train()\n",
        "    train_loss = 0\n",
        "    for batch in tqdm(train_loader):\n",
        "            optimizer.zero_grad()\n",
        "            target = batch['target'].to(device)\n",
        "            tokens = batch['input_ids'].view(batch_size, 128).to(device)\n",
        "            mask = batch['mask'].view(batch_size, 128).to(device)\n",
        "            outputs = model_0(tokens, attention_mask = mask)\n",
        "            loss = criterion(outputs[0].to(device), target)\n",
        "            loss.backward()\n",
        "            optimizer.step()\n",
        "            if e == 6:\n",
        "                optimizer = torch.optim.Adam(model_0.parameters(), lr = 1e-5)\n",
        "            if e == 9:\n",
        "                optimizer = torch.optim.Adam(model_0.parameters(), lr = 5e-6)\n",
        "            train_loss += loss.item()\n",
        "\n",
        "    valid_loss = 0\n",
        "    valid_acc = 0\n",
        "    model_0.eval()\n",
        "    with torch.no_grad():\n",
        "        for batch in valid_loader:\n",
        "            optimizer.zero_grad()\n",
        "            size = batch['input_ids'].shape[0]\n",
        "            target = batch['target'].to(device)\n",
        "            tokens = batch['input_ids'].view(size, 128).to(device)\n",
        "            mask = batch['mask'].view(size, 128).to(device)\n",
        "            outputs = model_0(tokens, attention_mask = mask)\n",
        "            output_tensor = outputs[0].to(device)\n",
        "            output_tensor = torch.argmax(output_tensor, dim = 1)\n",
        "            val_loss = criterion(outputs[0], target)\n",
        "            valid_acc = accuracy_score(target.cpu(), output_tensor.cpu())\n",
        "            optimizer.step()\n",
        "            valid_loss += val_loss.item()\n",
        "\n",
        "    print(f\"Train Loss: {train_loss / len(train_loader)},\"\n",
        "           f\"Valid Loss: {valid_loss / len(valid_loader)},\"\n",
        "           f\"Valid Acc: {valid_acc}\")\n",
        "\n",
        "# Testing\n",
        "test_acc = 0\n",
        "model_0.eval()\n",
        "with torch.no_grad():\n",
        "    i = 0\n",
        "    test_acc = 0\n",
        "    for batch in test_loader:\n",
        "            i+=1\n",
        "            optimizer.zero_grad()\n",
        "            size = batch['input_ids'].shape[0]\n",
        "            target = batch['target'].to(device)\n",
        "            tokens = batch['input_ids'].view(size, 128).to(device)\n",
        "            mask = batch['mask'].view(size, 128).to(device)\n",
        "            outputs = model_0(tokens, attention_mask = mask)\n",
        "            output_tensor = outputs[0].to(device)\n",
        "            output_tensor = torch.argmax(output_tensor, dim = 1)\n",
        "            test_acc += accuracy_score(target.cpu(), output_tensor.cpu())\n",
        "print(f\"Test Acc для непредтренированной модели: {test_acc/i}\")"
      ],
      "execution_count": null,
      "outputs": []
    },
    {
      "cell_type": "code",
      "metadata": {
        "id": "ythN-e0QzAE6"
      },
      "source": [
        "def get_attention_matrixes(model, tokenizer, text, device=device):\n",
        "    inp = list(filter(lambda x: x != tokenizer.sep_token_id, tokenizer.encode(text)))\n",
        "    inp = torch.tensor(inp, dtype=torch.long, device=device).unsqueeze(0)\n",
        "    attn_tensors = model(inp)[-1]\n",
        "    seq = [tokenizer.decode(x) for x in inp[0].tolist()]\n",
        "    attn = []\n",
        "    for i in range(len(attn_tensors)):\n",
        "        attn_layer = []\n",
        "        for j in range(attn_tensors[i].size(1)):\n",
        "            attn_layer.append(attn_tensors[i][0, j].cpu().detach().numpy())\n",
        "        attn.append(np.array(attn_layer))\n",
        "\n",
        "    return np.array(attn)"
      ],
      "execution_count": null,
      "outputs": []
    },
    {
      "cell_type": "code",
      "metadata": {
        "id": "nKLhz64IzAE6"
      },
      "source": [
        "def show_attention(seq, attentions):\n",
        "    # Set up figure with colorbar\n",
        "    fig = plt.figure(figsize=(20,20))\n",
        "    ax = fig.add_subplot(111)\n",
        "    cax = ax.matshow(attentions)\n",
        "    fig.colorbar(cax)\n",
        "\n",
        "    # Set up axes\n",
        "    ax.set_xticklabels(['']+seq[1:], rotation=90, fontsize=16)\n",
        "    ax.set_yticklabels(['']+seq[1:], fontsize=16)\n",
        "\n",
        "    # Show label at every tick\n",
        "    ax.xaxis.set_major_locator(ticker.MultipleLocator(1))\n",
        "    ax.yaxis.set_major_locator(ticker.MultipleLocator(1))\n",
        "\n",
        "    plt.show()"
      ],
      "execution_count": null,
      "outputs": []
    },
    {
      "cell_type": "code",
      "metadata": {
        "id": "TDUr5ZQZzAE6"
      },
      "source": [
        "text = emotion_dataset[\"train\"][\"text\"][1] # Выбери текст из датасета\n",
        "tokens = tokenizer.tokenize(text)"
      ],
      "execution_count": null,
      "outputs": []
    },
    {
      "cell_type": "code",
      "metadata": {
        "id": "TJiIxKxlzAE7",
        "colab": {
          "base_uri": "https://localhost:8080/",
          "height": 1000
        },
        "outputId": "083ffcbf-1508-496d-aef2-40e692d73b04"
      },
      "source": [
        "attns = get_attention_matrixes(model_0, tokenizer, text)\n",
        "show_attention(tokens, attns[-1][0])"
      ],
      "execution_count": null,
      "outputs": [
        {
          "output_type": "display_data",
          "data": {
            "image/png": "[encoded data removed]",
            "text/plain": [
              "<Figure size 1440x1440 with 2 Axes>"
            ]
          },
          "metadata": {
            "tags": [],
            "needs_background": "light"
          }
        }
      ]
    },
    {
      "cell_type": "markdown",
      "metadata": {
        "id": "Nr2ck2SwzAE7"
      },
      "source": [
        "## Fine-tuning\n",
        "\n",
        "Теперь другой подход: загрузим модель, которая обучалась решать задачу Language Modeling."
      ]
    },
    {
      "cell_type": "code",
      "metadata": {
        "id": "gJLGLGQvzAE7",
        "colab": {
          "base_uri": "https://localhost:8080/",
          "height": 170,
          "referenced_widgets": [
            "14ec4e6231d941d783adbc0a86c7c52c",
            "7aba1f7affac48e1a6770401a3bbc6ae",
            "ff68ff42d1c3484f9ddc2bb7432af406",
            "0d59d252bfd3466f96c8813063d288e5",
            "d36b13b1c2794641a243661bf84b89cf",
            "00cccad976dc420e880c29cba3b2a4f7",
            "7279611312f44bcba010a77834af9c3d",
            "b5a84be275354f7aa128715a397851b6"
          ]
        },
        "outputId": "85e77514-3aff-4d82-99f5-ebd5e957a5c6"
      },
      "source": [
        "model_1 = GPT2ForSequenceClassification.from_pretrained(\n",
        "    \"distilgpt2\",\n",
        "    output_attentions=True,\n",
        "    pad_token_id=tokenizer.eos_token_id,\n",
        "    num_labels=8\n",
        ").to(device)"
      ],
      "execution_count": null,
      "outputs": [
        {
          "output_type": "display_data",
          "data": {
            "application/vnd.jupyter.widget-view+json": {
              "model_id": "14ec4e6231d941d783adbc0a86c7c52c",
              "version_minor": 0,
              "version_major": 2
            },
            "text/plain": [
              "HBox(children=(FloatProgress(value=0.0, description='Downloading', max=352833716.0, style=ProgressStyle(descri…"
            ]
          },
          "metadata": {
            "tags": []
          }
        },
        {
          "output_type": "stream",
          "text": [
            "\n"
          ],
          "name": "stdout"
        },
        {
          "output_type": "stream",
          "text": [
            "Some weights of the model checkpoint at distilgpt2 were not used when initializing GPT2ForSequenceClassification: ['lm_head.weight']\n",
            "- This IS expected if you are initializing GPT2ForSequenceClassification from the checkpoint of a model trained on another task or with another architecture (e.g. initializing a BertForSequenceClassification model from a BertForPreTraining model).\n",
            "- This IS NOT expected if you are initializing GPT2ForSequenceClassification from the checkpoint of a model that you expect to be exactly identical (initializing a BertForSequenceClassification model from a BertForSequenceClassification model).\n",
            "Some weights of GPT2ForSequenceClassification were not initialized from the model checkpoint at distilgpt2 and are newly initialized: ['score.weight']\n",
            "You should probably TRAIN this model on a down-stream task to be able to use it for predictions and inference.\n"
          ],
          "name": "stderr"
        }
      ]
    },
    {
      "cell_type": "code",
      "metadata": {
        "id": "gbOdsYpbzAE7"
      },
      "source": [
        "lr = 1e-4\n",
        "\n",
        "optimizer = torch.optim.Adam(model_1.parameters())\n",
        "criterion = nn.CrossEntropyLoss()\n"
      ],
      "execution_count": null,
      "outputs": []
    },
    {
      "cell_type": "code",
      "metadata": {
        "id": "CLqWfrWkzAE8"
      },
      "source": [
        "from tqdm.notebook import tqdm\n",
        "\n",
        "\n",
        "num_epochs = 10\n",
        "\n",
        "# Train loop\n",
        "for e in range(num_epochs):\n",
        "    model_1.train()\n",
        "    train_loss = 0\n",
        "    for batch in tqdm(train_loader):\n",
        "            optimizer.zero_grad()\n",
        "            target = batch['target'].to(device)\n",
        "            tokens = batch['input_ids'].view(batch_size, 128).to(device)\n",
        "            mask = batch['mask'].view(batch_size, 128).to(device)\n",
        "            outputs = model_1(tokens, attention_mask = mask)\n",
        "            loss = criterion(outputs[0].to(device), target)\n",
        "            loss.backward()\n",
        "            optimizer.step()\n",
        "            if e == 6:\n",
        "                optimizer = torch.optim.Adam(model_0.parameters(), lr = 1e-5)\n",
        "            if e == 9:\n",
        "                optimizer = torch.optim.Adam(model_0.parameters(), lr = 5e-6)\n",
        "            train_loss += loss.item()\n",
        "            train_loss += loss.item()\n",
        "\n",
        "    valid_loss = 0\n",
        "    valid_acc = 0\n",
        "    model_1.eval()\n",
        "    with torch.no_grad():\n",
        "        for batch in valid_loader:\n",
        "            optimizer.zero_grad()\n",
        "            size = batch['input_ids'].shape[0]\n",
        "            target = batch['target'].to(device)\n",
        "            tokens = batch['input_ids'].view(size, 128).to(device)\n",
        "            mask = batch['mask'].view(size, 128).to(device)\n",
        "            outputs = model_1(tokens, attention_mask = mask)\n",
        "            output_tensor = outputs[0].to(device)\n",
        "            output_tensor = torch.argmax(output_tensor, dim = 1)\n",
        "            val_loss = criterion(outputs[0], target)\n",
        "            valid_acc = accuracy_score(target.cpu(), output_tensor.cpu())\n",
        "            optimizer.step()\n",
        "            valid_loss += val_loss.item()\n",
        "\n",
        "    print(f\"Train Loss: {train_loss / len(train_loader)},\"\n",
        "           f\"Valid Loss: {valid_loss / len(valid_loader)},\"\n",
        "           f\"Valid Acc: {valid_acc}\")\n",
        "\n",
        "# Testing\n",
        "with torch.no_grad():\n",
        "    i = 0\n",
        "    test_acc = 0\n",
        "    for batch in test_loader:\n",
        "            i+=1\n",
        "            optimizer.zero_grad()\n",
        "            size = batch['input_ids'].shape[0]\n",
        "            target = batch['target'].to(device)\n",
        "            tokens = batch['input_ids'].view(size, 128).to(device)\n",
        "            mask = batch['mask'].view(size, 128).to(device)\n",
        "            outputs = model_1(tokens, attention_mask = mask)\n",
        "            output_tensor = outputs[0].to(device)\n",
        "            output_tensor = torch.argmax(output_tensor, dim = 1)\n",
        "            test_acc += accuracy_score(target.cpu(), output_tensor.cpu())\n",
        "print(f\"Test Acc для предтренированной модели: {test_acc/i}\")"
      ],
      "execution_count": null,
      "outputs": []
    },
    {
      "cell_type": "code",
      "metadata": {
        "id": "GIMQvt4szAE9",
        "colab": {
          "base_uri": "https://localhost:8080/",
          "height": 1000
        },
        "outputId": "8b58bc6b-4b81-4562-8473-8d7df25db83b"
      },
      "source": [
        "text = emotion_dataset[\"train\"][\"text\"][10] # Выбери текст из датасета\n",
        "tokens = tokenizer.tokenize(text)\n",
        "\n",
        "attns = get_attention_matrixes(model_1, tokenizer, text)\n",
        "show_attention(tokens, attns[-1][0])"
      ],
      "execution_count": null,
      "outputs": [
        {
          "output_type": "display_data",
          "data": {
            "image/png": "[encoded data removed]",
            "text/plain": [
              "<Figure size 1440x1440 with 2 Axes>"
            ]
          },
          "metadata": {
            "tags": [],
            "needs_background": "light"
          }
        }
      ]
    },
    {
      "cell_type": "code",
      "metadata": {
        "id": "VKUL3YiUzAE9",
        "colab": {
          "base_uri": "https://localhost:8080/"
        },
        "outputId": "6dd00540-a988-4856-a884-60968f54eb79"
      },
      "source": [
        "with torch.no_grad():\n",
        "    i = 0\n",
        "    test_acc = 0\n",
        "    for batch in test_loader:\n",
        "            i+=1\n",
        "            optimizer.zero_grad()\n",
        "            size = batch['input_ids'].shape[0]\n",
        "            target = batch['target'].to(device)\n",
        "            tokens = batch['input_ids'].view(size, 128).to(device)\n",
        "            mask = batch['mask'].view(size, 128).to(device)\n",
        "            outputs = model_0(tokens, attention_mask = mask)\n",
        "            output_tensor = outputs[0].to(device)\n",
        "            output_tensor = torch.argmax(output_tensor, dim = 1)\n",
        "            test_acc += accuracy_score(target.cpu(), output_tensor.cpu())\n",
        "print(f\"Test Acc для непредтренированной модели: {test_acc/i}\")\n",
        "with torch.no_grad():\n",
        "    i = 0\n",
        "    test_acc = 0\n",
        "    for batch in test_loader:\n",
        "            i+=1\n",
        "            optimizer.zero_grad()\n",
        "            size = batch['input_ids'].shape[0]\n",
        "            target = batch['target'].to(device)\n",
        "            tokens = batch['input_ids'].view(size, 128).to(device)\n",
        "            mask = batch['mask'].view(size, 128).to(device)\n",
        "            outputs = model_1(tokens, attention_mask = mask)\n",
        "            output_tensor = outputs[0].to(device)\n",
        "            output_tensor = torch.argmax(output_tensor, dim = 1)\n",
        "            test_acc += accuracy_score(target.cpu(), output_tensor.cpu())\n",
        "print(f\"Test Acc для предтренированной модели: {test_acc/i}\")"
      ],
      "execution_count": null,
      "outputs": [
        {
          "output_type": "stream",
          "text": [
            "Test Acc для непредтренированной модели: 0.8515625\n",
            "Test Acc для предтренированной модели: 0.9091796875\n"
          ],
          "name": "stdout"
        }
      ]
    },
    {
      "cell_type": "markdown",
      "metadata": {
        "id": "gO-3XKNmzAE9"
      },
      "source": [
        "## Отчет\n",
        "\n",
        "\n",
        "1) Как и следовало ожидать предобученная на задаче language modeling сеть выдала значительно лучшие результаты\n",
        "\n",
        "2) Больше всего внимания модель обращает на первые слова, на слова по диагонали то есть можно сказать на \"последнее\" слово. Так же я заметил что часто модель обращает внимания на местоимения и служебные слова разделяющие части предложения.\n",
        "\n",
        "3) Первые головы показывают какой-то более-менее осмысленный результат. Чем дальше тем чаще попадается что все внимание уделено одному слову."
      ]
    }
  ]
}